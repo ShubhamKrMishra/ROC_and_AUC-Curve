{
 "cells": [
  {
   "cell_type": "markdown",
   "metadata": {
    "id": "4cDUPGUoVR8p"
   },
   "source": [
    "# Problem Statement -\n",
    "\n",
    "Plot AUC-ROC curve using different machine learning algorithms \n",
    "\n",
    "Dataset Description -\n",
    "\n",
    "Non-alcohol fatty liver disease (NAFLD) Data set contains the data from a population study of non-alcoholic fatty liver disease (NAFLD). Subjects with the condition and a set of matched control subjects were followed forward for metabolic conditions, cardiac endpoints, and death.\n",
    "\n",
    "\n",
    "id\t   subject identifier\n",
    "\n",
    "age\t   age at entry to the study\n",
    "\n",
    "male\t   0=female, 1=male\n",
    "\n",
    "weight   weight in kg\n",
    "\n",
    "height   height in cm\n",
    "\n",
    "bmi\t   body mass index\n",
    "\n",
    "case.id  the id of the NAFLD case to whom this subject is matched\n",
    "\n",
    "futime   time to death or last follow-up\n",
    "\n",
    "status   0= alive at last follow-up, 1=dead"
   ]
  },
  {
   "cell_type": "code",
   "execution_count": 1,
   "metadata": {
    "id": "2OQGCKHHbqfW"
   },
   "outputs": [],
   "source": [
    "#AUC - Area Under Curve\n",
    "#ROC - Receiver Operating Characteristic \n",
    "#AUC-ROC curve helps us visualize how well our machine learning classifier performs.\n",
    "\n",
    "#Lets understand the confusion matrix -\n",
    "#lets understand with an example \n",
    "#True Positive(TP): Images which are cat and actually predicted cat\n",
    "#True Negative(TN): Images which are not-cat and actually predicted not-cat\n",
    "#False Positive(FP): Images which are not-cat and actually predicted as cat\n",
    "#False Negative(FN): Images which are cat and actually predicted as not-cat\n",
    "#predict_proba gives you the probabilities for the target (0 and 1 in our case) in array form\n"
   ]
  },
  {
   "cell_type": "code",
   "execution_count": 2,
   "metadata": {
    "id": "xPf--U9hLaB_"
   },
   "outputs": [],
   "source": [
    "import pandas as pd\n",
    "import numpy as np\n",
    "import matplotlib.pyplot as plt\n",
    "import seaborn as sns"
   ]
  },
  {
   "cell_type": "code",
   "execution_count": 3,
   "metadata": {
    "id": "cA8OJfPyL8BB"
   },
   "outputs": [],
   "source": [
    "df=pd.read_csv(\"nafld1.csv\")"
   ]
  },
  {
   "cell_type": "code",
   "execution_count": 4,
   "metadata": {
    "colab": {
     "base_uri": "https://localhost:8080/",
     "height": 206
    },
    "id": "M2een895MDRn",
    "outputId": "817a0bf6-838e-4988-b8ba-8ecf6e267d13"
   },
   "outputs": [
    {
     "data": {
      "text/html": [
       "<div>\n",
       "<style scoped>\n",
       "    .dataframe tbody tr th:only-of-type {\n",
       "        vertical-align: middle;\n",
       "    }\n",
       "\n",
       "    .dataframe tbody tr th {\n",
       "        vertical-align: top;\n",
       "    }\n",
       "\n",
       "    .dataframe thead th {\n",
       "        text-align: right;\n",
       "    }\n",
       "</style>\n",
       "<table border=\"1\" class=\"dataframe\">\n",
       "  <thead>\n",
       "    <tr style=\"text-align: right;\">\n",
       "      <th></th>\n",
       "      <th>Unnamed: 0</th>\n",
       "      <th>id</th>\n",
       "      <th>age</th>\n",
       "      <th>male</th>\n",
       "      <th>weight</th>\n",
       "      <th>height</th>\n",
       "      <th>bmi</th>\n",
       "      <th>case.id</th>\n",
       "      <th>futime</th>\n",
       "      <th>status</th>\n",
       "    </tr>\n",
       "  </thead>\n",
       "  <tbody>\n",
       "    <tr>\n",
       "      <th>0</th>\n",
       "      <td>3631</td>\n",
       "      <td>1</td>\n",
       "      <td>57</td>\n",
       "      <td>0</td>\n",
       "      <td>60.0</td>\n",
       "      <td>163.0</td>\n",
       "      <td>22.690939</td>\n",
       "      <td>10630.0</td>\n",
       "      <td>6261</td>\n",
       "      <td>0</td>\n",
       "    </tr>\n",
       "    <tr>\n",
       "      <th>1</th>\n",
       "      <td>8458</td>\n",
       "      <td>2</td>\n",
       "      <td>67</td>\n",
       "      <td>0</td>\n",
       "      <td>70.4</td>\n",
       "      <td>168.0</td>\n",
       "      <td>24.884028</td>\n",
       "      <td>14817.0</td>\n",
       "      <td>624</td>\n",
       "      <td>0</td>\n",
       "    </tr>\n",
       "    <tr>\n",
       "      <th>2</th>\n",
       "      <td>6298</td>\n",
       "      <td>3</td>\n",
       "      <td>53</td>\n",
       "      <td>1</td>\n",
       "      <td>105.8</td>\n",
       "      <td>186.0</td>\n",
       "      <td>30.453537</td>\n",
       "      <td>3.0</td>\n",
       "      <td>1783</td>\n",
       "      <td>0</td>\n",
       "    </tr>\n",
       "    <tr>\n",
       "      <th>3</th>\n",
       "      <td>15398</td>\n",
       "      <td>4</td>\n",
       "      <td>56</td>\n",
       "      <td>1</td>\n",
       "      <td>109.3</td>\n",
       "      <td>170.0</td>\n",
       "      <td>37.830100</td>\n",
       "      <td>6628.0</td>\n",
       "      <td>3143</td>\n",
       "      <td>0</td>\n",
       "    </tr>\n",
       "    <tr>\n",
       "      <th>4</th>\n",
       "      <td>13261</td>\n",
       "      <td>5</td>\n",
       "      <td>68</td>\n",
       "      <td>1</td>\n",
       "      <td>NaN</td>\n",
       "      <td>NaN</td>\n",
       "      <td>NaN</td>\n",
       "      <td>1871.0</td>\n",
       "      <td>1836</td>\n",
       "      <td>1</td>\n",
       "    </tr>\n",
       "  </tbody>\n",
       "</table>\n",
       "</div>"
      ],
      "text/plain": [
       "   Unnamed: 0  id  age  male  weight  height        bmi  case.id  futime  \\\n",
       "0        3631   1   57     0    60.0   163.0  22.690939  10630.0    6261   \n",
       "1        8458   2   67     0    70.4   168.0  24.884028  14817.0     624   \n",
       "2        6298   3   53     1   105.8   186.0  30.453537      3.0    1783   \n",
       "3       15398   4   56     1   109.3   170.0  37.830100   6628.0    3143   \n",
       "4       13261   5   68     1     NaN     NaN        NaN   1871.0    1836   \n",
       "\n",
       "   status  \n",
       "0       0  \n",
       "1       0  \n",
       "2       0  \n",
       "3       0  \n",
       "4       1  "
      ]
     },
     "execution_count": 4,
     "metadata": {},
     "output_type": "execute_result"
    }
   ],
   "source": [
    "df.head()"
   ]
  },
  {
   "cell_type": "code",
   "execution_count": 5,
   "metadata": {
    "id": "t31m_z73MDU9"
   },
   "outputs": [],
   "source": [
    "df=df.drop(columns=[\"Unnamed: 0\",\"id\",\"case.id\"])"
   ]
  },
  {
   "cell_type": "code",
   "execution_count": 6,
   "metadata": {
    "colab": {
     "base_uri": "https://localhost:8080/",
     "height": 206
    },
    "id": "wNgqwItKoggO",
    "outputId": "c21adeae-9202-47a3-f908-3d577486241c"
   },
   "outputs": [
    {
     "data": {
      "text/html": [
       "<div>\n",
       "<style scoped>\n",
       "    .dataframe tbody tr th:only-of-type {\n",
       "        vertical-align: middle;\n",
       "    }\n",
       "\n",
       "    .dataframe tbody tr th {\n",
       "        vertical-align: top;\n",
       "    }\n",
       "\n",
       "    .dataframe thead th {\n",
       "        text-align: right;\n",
       "    }\n",
       "</style>\n",
       "<table border=\"1\" class=\"dataframe\">\n",
       "  <thead>\n",
       "    <tr style=\"text-align: right;\">\n",
       "      <th></th>\n",
       "      <th>age</th>\n",
       "      <th>male</th>\n",
       "      <th>weight</th>\n",
       "      <th>height</th>\n",
       "      <th>bmi</th>\n",
       "      <th>futime</th>\n",
       "      <th>status</th>\n",
       "    </tr>\n",
       "  </thead>\n",
       "  <tbody>\n",
       "    <tr>\n",
       "      <th>0</th>\n",
       "      <td>57</td>\n",
       "      <td>0</td>\n",
       "      <td>60.0</td>\n",
       "      <td>163.0</td>\n",
       "      <td>22.690939</td>\n",
       "      <td>6261</td>\n",
       "      <td>0</td>\n",
       "    </tr>\n",
       "    <tr>\n",
       "      <th>1</th>\n",
       "      <td>67</td>\n",
       "      <td>0</td>\n",
       "      <td>70.4</td>\n",
       "      <td>168.0</td>\n",
       "      <td>24.884028</td>\n",
       "      <td>624</td>\n",
       "      <td>0</td>\n",
       "    </tr>\n",
       "    <tr>\n",
       "      <th>2</th>\n",
       "      <td>53</td>\n",
       "      <td>1</td>\n",
       "      <td>105.8</td>\n",
       "      <td>186.0</td>\n",
       "      <td>30.453537</td>\n",
       "      <td>1783</td>\n",
       "      <td>0</td>\n",
       "    </tr>\n",
       "    <tr>\n",
       "      <th>3</th>\n",
       "      <td>56</td>\n",
       "      <td>1</td>\n",
       "      <td>109.3</td>\n",
       "      <td>170.0</td>\n",
       "      <td>37.830100</td>\n",
       "      <td>3143</td>\n",
       "      <td>0</td>\n",
       "    </tr>\n",
       "    <tr>\n",
       "      <th>4</th>\n",
       "      <td>68</td>\n",
       "      <td>1</td>\n",
       "      <td>NaN</td>\n",
       "      <td>NaN</td>\n",
       "      <td>NaN</td>\n",
       "      <td>1836</td>\n",
       "      <td>1</td>\n",
       "    </tr>\n",
       "  </tbody>\n",
       "</table>\n",
       "</div>"
      ],
      "text/plain": [
       "   age  male  weight  height        bmi  futime  status\n",
       "0   57     0    60.0   163.0  22.690939    6261       0\n",
       "1   67     0    70.4   168.0  24.884028     624       0\n",
       "2   53     1   105.8   186.0  30.453537    1783       0\n",
       "3   56     1   109.3   170.0  37.830100    3143       0\n",
       "4   68     1     NaN     NaN        NaN    1836       1"
      ]
     },
     "execution_count": 6,
     "metadata": {},
     "output_type": "execute_result"
    }
   ],
   "source": [
    "df.head()"
   ]
  },
  {
   "cell_type": "code",
   "execution_count": 7,
   "metadata": {
    "colab": {
     "base_uri": "https://localhost:8080/"
    },
    "id": "70XnNBbwpdcI",
    "outputId": "3823c365-9dfa-4033-91f8-77641017616e"
   },
   "outputs": [
    {
     "name": "stdout",
     "output_type": "stream",
     "text": [
      "<class 'pandas.core.frame.DataFrame'>\n",
      "RangeIndex: 17549 entries, 0 to 17548\n",
      "Data columns (total 7 columns):\n",
      " #   Column  Non-Null Count  Dtype  \n",
      "---  ------  --------------  -----  \n",
      " 0   age     17549 non-null  int64  \n",
      " 1   male    17549 non-null  int64  \n",
      " 2   weight  12763 non-null  float64\n",
      " 3   height  14381 non-null  float64\n",
      " 4   bmi     12588 non-null  float64\n",
      " 5   futime  17549 non-null  int64  \n",
      " 6   status  17549 non-null  int64  \n",
      "dtypes: float64(3), int64(4)\n",
      "memory usage: 959.8 KB\n"
     ]
    }
   ],
   "source": [
    "df.info()"
   ]
  },
  {
   "cell_type": "code",
   "execution_count": 8,
   "metadata": {
    "colab": {
     "base_uri": "https://localhost:8080/"
    },
    "id": "jrw2eGgqogjG",
    "outputId": "89cabd79-c592-48f7-dc30-cfed2f35bb56"
   },
   "outputs": [
    {
     "data": {
      "text/plain": [
       "age          0\n",
       "male         0\n",
       "weight    4786\n",
       "height    3168\n",
       "bmi       4961\n",
       "futime       0\n",
       "status       0\n",
       "dtype: int64"
      ]
     },
     "execution_count": 8,
     "metadata": {},
     "output_type": "execute_result"
    }
   ],
   "source": [
    "df.isnull().sum()"
   ]
  },
  {
   "cell_type": "code",
   "execution_count": 9,
   "metadata": {
    "id": "eohYe2fZogl-"
   },
   "outputs": [],
   "source": [
    "df[\"weight\"]=df[\"weight\"].fillna(df[\"weight\"].mean())\n",
    "df[\"height\"]=df[\"height\"].fillna(df[\"height\"].mean())\n",
    "df[\"bmi\"]=df[\"bmi\"].fillna(df[\"bmi\"].mean())"
   ]
  },
  {
   "cell_type": "code",
   "execution_count": 10,
   "metadata": {
    "colab": {
     "base_uri": "https://localhost:8080/"
    },
    "id": "iAL-STZJogo3",
    "outputId": "af8ee219-3d6e-41bb-b489-0c8627c3fd96"
   },
   "outputs": [
    {
     "data": {
      "text/plain": [
       "age       0\n",
       "male      0\n",
       "weight    0\n",
       "height    0\n",
       "bmi       0\n",
       "futime    0\n",
       "status    0\n",
       "dtype: int64"
      ]
     },
     "execution_count": 10,
     "metadata": {},
     "output_type": "execute_result"
    }
   ],
   "source": [
    "df.isnull().sum()"
   ]
  },
  {
   "cell_type": "code",
   "execution_count": 11,
   "metadata": {
    "colab": {
     "base_uri": "https://localhost:8080/",
     "height": 452
    },
    "id": "6EAMcTs7qt61",
    "outputId": "40732f91-9184-4732-935e-cc4e655c3138"
   },
   "outputs": [
    {
     "data": {
      "text/plain": [
       "<AxesSubplot:>"
      ]
     },
     "execution_count": 11,
     "metadata": {},
     "output_type": "execute_result"
    },
    {
     "data": {
      "image/png": "[encoded data removed]",
      "text/plain": [
       "<Figure size 640x480 with 2 Axes>"
      ]
     },
     "metadata": {},
     "output_type": "display_data"
    }
   ],
   "source": [
    "import seaborn as sns\n",
    "sns.heatmap(df.corr(),annot=True,cmap=\"coolwarm\")"
   ]
  },
  {
   "cell_type": "code",
   "execution_count": 12,
   "metadata": {
    "id": "YHiFMZxHqTUQ"
   },
   "outputs": [],
   "source": [
    "X=df.drop(columns=[\"status\"])\n",
    "y=df[[\"status\"]]"
   ]
  },
  {
   "cell_type": "code",
   "execution_count": 13,
   "metadata": {
    "id": "_ZKtgiutqKKL"
   },
   "outputs": [],
   "source": [
    "from sklearn.model_selection import train_test_split\n",
    "x_train,x_test,y_train,y_test=train_test_split(X,y,test_size=0.2,random_state=42)"
   ]
  },
  {
   "cell_type": "code",
   "execution_count": 14,
   "metadata": {
    "id": "YVhnCucBogr7"
   },
   "outputs": [],
   "source": [
    "from sklearn.preprocessing import StandardScaler\n",
    "sc=StandardScaler()\n",
    "x_train=sc.fit_transform(x_train)\n",
    "x_test=sc.transform(x_test)"
   ]
  },
  {
   "cell_type": "code",
   "execution_count": 15,
   "metadata": {
    "colab": {
     "base_uri": "https://localhost:8080/",
     "height": 129
    },
    "id": "zhPO5KfJyVEH",
    "outputId": "fddca68a-df7e-41da-f17b-eda0eaf45be5"
   },
   "outputs": [
    {
     "name": "stderr",
     "output_type": "stream",
     "text": [
      "C:\\Users\\hp\\anaconda3\\lib\\site-packages\\sklearn\\utils\\validation.py:993: DataConversionWarning: A column-vector y was passed when a 1d array was expected. Please change the shape of y to (n_samples, ), for example using ravel().\n",
      "  y = column_or_1d(y, warn=True)\n"
     ]
    },
    {
     "data": {
      "text/plain": [
       "GaussianNB()"
      ]
     },
     "execution_count": 15,
     "metadata": {},
     "output_type": "execute_result"
    }
   ],
   "source": [
    "from sklearn.naive_bayes import GaussianNB\n",
    "nb= GaussianNB()\n",
    "nb.fit(x_train,y_train)"
   ]
  },
  {
   "cell_type": "code",
   "execution_count": 16,
   "metadata": {
    "colab": {
     "base_uri": "https://localhost:8080/",
     "height": 129
    },
    "id": "UqfWIBLozIBB",
    "outputId": "52929f99-ce0c-41a1-ce6f-2493f0d75deb"
   },
   "outputs": [
    {
     "name": "stderr",
     "output_type": "stream",
     "text": [
      "C:\\Users\\hp\\anaconda3\\lib\\site-packages\\sklearn\\utils\\validation.py:993: DataConversionWarning: A column-vector y was passed when a 1d array was expected. Please change the shape of y to (n_samples, ), for example using ravel().\n",
      "  y = column_or_1d(y, warn=True)\n"
     ]
    },
    {
     "data": {
      "text/plain": [
       "SVC(probability=True)"
      ]
     },
     "execution_count": 16,
     "metadata": {},
     "output_type": "execute_result"
    }
   ],
   "source": [
    "from sklearn.svm import SVC\n",
    "svm=SVC(probability=True)\n",
    "svm.fit(x_train,y_train)"
   ]
  },
  {
   "cell_type": "code",
   "execution_count": 17,
   "metadata": {
    "colab": {
     "base_uri": "https://localhost:8080/",
     "height": 75
    },
    "id": "C7RHeK4Ix8Ei",
    "outputId": "ea57b036-4b45-4da4-aead-fac558382ace"
   },
   "outputs": [
    {
     "data": {
      "text/plain": [
       "DecisionTreeClassifier()"
      ]
     },
     "execution_count": 17,
     "metadata": {},
     "output_type": "execute_result"
    }
   ],
   "source": [
    "from sklearn.tree import DecisionTreeClassifier\n",
    "dtc=DecisionTreeClassifier()\n",
    "dtc.fit(x_train,y_train)"
   ]
  },
  {
   "cell_type": "code",
   "execution_count": 18,
   "metadata": {
    "colab": {
     "base_uri": "https://localhost:8080/",
     "height": 129
    },
    "id": "AH7A6LAKogu4",
    "outputId": "bebebdfa-560e-4256-82f5-d57724c1740d"
   },
   "outputs": [
    {
     "name": "stderr",
     "output_type": "stream",
     "text": [
      "C:\\Users\\hp\\AppData\\Local\\Temp\\ipykernel_23092\\2210184639.py:3: DataConversionWarning: A column-vector y was passed when a 1d array was expected. Please change the shape of y to (n_samples,), for example using ravel().\n",
      "  rfc.fit(x_train,y_train)\n"
     ]
    },
    {
     "data": {
      "text/plain": [
       "RandomForestClassifier()"
      ]
     },
     "execution_count": 18,
     "metadata": {},
     "output_type": "execute_result"
    }
   ],
   "source": [
    "from sklearn.ensemble import RandomForestClassifier\n",
    "rfc=RandomForestClassifier()\n",
    "rfc.fit(x_train,y_train)"
   ]
  },
  {
   "cell_type": "code",
   "execution_count": 19,
   "metadata": {
    "id": "MfG4V3i_og3v"
   },
   "outputs": [],
   "source": [
    "# Predicting the probability when person is dead\n",
    "nb_probs= nb.predict_proba(x_test)[:,1]\n",
    "svc_probs= svm.predict_proba(x_test)[:,1]\n",
    "dt_probs= dtc.predict_proba(x_test) [:,1]\n",
    "rf_probs= rfc.predict_proba(x_test) [:,1]"
   ]
  },
  {
   "cell_type": "code",
   "execution_count": 20,
   "metadata": {
    "id": "iKRxxH4_sWvt"
   },
   "outputs": [],
   "source": [
    "# AUC (or, better, AUROC) is just the area underneath the entire ROC curve and \n",
    "# is always represented as a value between 0 to 1. Our aim is to maximize this number as this means that we have the highest TPR and lowest FPR for a threshold."
   ]
  },
  {
   "cell_type": "code",
   "execution_count": 21,
   "metadata": {
    "id": "dsoxiRRVJtnq"
   },
   "outputs": [],
   "source": [
    "# roc_auc_score is defined as the area under the ROC curve, which is the curve having\n",
    "# False Positive Rate on the x-axis and True Positive Rate on the y-axis at all classification thresholds"
   ]
  },
  {
   "cell_type": "code",
   "execution_count": 22,
   "metadata": {
    "id": "Ww5rrslMKQkI"
   },
   "outputs": [],
   "source": [
    "from sklearn.metrics import roc_auc_score\n",
    "nb_auc= roc_auc_score(y_test,nb_probs)\n",
    "svc_auc= roc_auc_score(y_test,svc_probs)\n",
    "dt_auc= roc_auc_score(y_test,dt_probs)\n",
    "rf_auc= roc_auc_score(y_test,rf_probs)"
   ]
  },
  {
   "cell_type": "code",
   "execution_count": 28,
   "metadata": {
    "colab": {
     "base_uri": "https://localhost:8080/",
     "height": 184
    },
    "id": "gVq556M1rGds",
    "outputId": "7f385728-c90e-4f2b-ee73-946376582aab"
   },
   "outputs": [],
   "source": [
    "random_probs = [0 for i in range(len(y_test))]\n",
    "p_fpr, p_tpr, threshold = roc_curve(y_test, random_probs)"
   ]
  },
  {
   "cell_type": "code",
   "execution_count": 24,
   "metadata": {
    "id": "R1D5RFgnKQnl"
   },
   "outputs": [
    {
     "name": "stdout",
     "output_type": "stream",
     "text": [
      "Naive Bayes:Area under ROC = 0.82\n",
      "Support Vector Machine:Area under ROC = 0.70\n",
      "Decision tree:Area under ROC=0.62\n",
      "Random forest:Area under ROC=0.80\n"
     ]
    }
   ],
   "source": [
    "print(\"Naive Bayes:Area under ROC = %0.2f\" %nb_auc)\n",
    "print(\"Support Vector Machine:Area under ROC = %0.2f\" %svc_auc)\n",
    "print(\"Decision tree:Area under ROC=%0.2f\" %dt_auc)\n",
    "print(\"Random forest:Area under ROC=%0.2f\" %rf_auc)"
   ]
  },
  {
   "cell_type": "code",
   "execution_count": 25,
   "metadata": {
    "id": "ZI6CRXa2MM2N"
   },
   "outputs": [],
   "source": [
    "from sklearn.metrics import roc_curve\n",
    "nb_fpr,nb_tpr,thresholds=roc_curve(y_test,nb_probs)\n",
    "svc_fpr,svc_tpr,thresholds=roc_curve(y_test,svc_probs)\n",
    "dt_fpr,dt_tpr,thresholds=roc_curve(y_test,dt_probs)\n",
    "rf_fpr,rf_tpr,thresholds=roc_curve(y_test,rf_probs)"
   ]
  },
  {
   "cell_type": "code",
   "execution_count": 29,
   "metadata": {
    "id": "A_rHi8DkXB7A"
   },
   "outputs": [
    {
     "data": {
      "image/png": "[encoded data removed]",
      "text/plain": [
       "<Figure size 640x480 with 1 Axes>"
      ]
     },
     "metadata": {},
     "output_type": "display_data"
    }
   ],
   "source": [
    "plt.plot(nb_fpr,nb_tpr, label=\"Naive Bayes (AUROC=%0.2f)\"%nb_auc)\n",
    "plt.plot(svc_fpr,svc_tpr, label=\"Support Vector Classifier (AUROC=%0.2f)\"%svc_auc)\n",
    "plt.plot(dt_fpr,dt_tpr, label=\"Decision Tree Classifier (AUROC=%0.2f)\"%dt_auc)\n",
    "plt.plot(rf_fpr,rf_tpr, label=\"Random Forest Classifier (AUROC=%0.2f)\"%rf_auc)\n",
    "plt.plot(p_fpr, p_tpr, linestyle='--', color='blue')\n",
    "plt.xlabel(\"False Positive Rate\")\n",
    "plt.ylabel(\"True Positive Rate\")\n",
    "plt.title(\"Receiver Operating Characteristic (ROC) Curve\")\n",
    "plt.legend()\n",
    "plt.show()\n"
   ]
  },
  {
   "cell_type": "code",
   "execution_count": 30,
   "metadata": {
    "id": "hmW6ESlFMM70"
   },
   "outputs": [],
   "source": [
    "# AUC - ROC Curve\n",
    "# It is the plot of sensitivity vs 1-specificity\n",
    "# sensitivity is positive recall - Out of positive samples how many samples was my classifier able to pick up\n",
    "# Also known as true positive rate (TPR) =tp/tp+fn\n"
   ]
  },
  {
   "cell_type": "code",
   "execution_count": null,
   "metadata": {},
   "outputs": [],
   "source": []
  }
 ],
 "metadata": {
  "colab": {
   "provenance": []
  },
  "kernelspec": {
   "display_name": "Python 3 (ipykernel)",
   "language": "python",
   "name": "python3"
  },
  "language_info": {
   "codemirror_mode": {
    "name": "ipython",
    "version": 3
   },
   "file_extension": ".py",
   "mimetype": "text/x-python",
   "name": "python",
   "nbconvert_exporter": "python",
   "pygments_lexer": "ipython3",
   "version": "3.9.13"
  }
 },
 "nbformat": 4,
 "nbformat_minor": 1
}
